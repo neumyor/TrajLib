{
 "cells": [
  {
   "cell_type": "code",
   "execution_count": null,
   "metadata": {},
   "outputs": [],
   "source": [
    "from tqdm.contrib import tenumerate\n",
    "from trajdl.datasets import Trajectory\n",
    "\n",
    "all_trajs = [\n",
    "    Trajectory(traj_pl.to_numpy(), entity_id=str(idx))\n",
    "    for idx, traj_pl in tenumerate(original_trajs, desc=\"transform trajectorys\")\n",
    "]\n",
    "print(all_trajs[0], all_trajs[0].seq[:10])"
   ]
  }
 ],
 "metadata": {
  "language_info": {
   "name": "python"
  }
 },
 "nbformat": 4,
 "nbformat_minor": 2
}
